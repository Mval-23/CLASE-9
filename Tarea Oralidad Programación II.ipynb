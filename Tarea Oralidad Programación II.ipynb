{
 "cells": [
  {
   "cell_type": "markdown",
   "metadata": {},
   "source": [
    "# Actividad: Resolución de Código y Explicación en Video\n",
    "\n",
    "## Objetivo:\n",
    "Resolver un problema de programación en Python utilizando POO y herencia, y luego realizar un video explicativo de no entre 3 y 5 minutos sobre cómo resolvieron el problema.\n",
    "\n",
    "## Consigna:\n",
    "#### Problema de Programación:\n",
    "\n",
    "## Descripción del Problema:\n",
    "Escribir un programa en Python que administre una lista de tareas. El programa debe permitir al usuario agregar, eliminar y listar tareas. Cada tarea tendrá un nombre, una descripción y una prioridad (alta, media, baja). Además, habrá diferentes tipos de tareas: TareaGeneral y TareaConFecha, cada una con características adicionales.\n",
    "\n",
    "### Requisitos del Código:\n",
    "\n",
    "1. El programa debe permitir agregar una nueva tarea.\n",
    "2. El programa debe permitir eliminar una tarea existente.\n",
    "3. El programa debe permitir listar todas las tareas con sus detalles.\n",
    "4. El programa debe estar diseñado utilizando POO e incluir herencia.\n",
    "\n",
    "## Video Explicativo:\n",
    "\n",
    "Duración: Máximo entre 3 y 5 minutos.\n",
    "\n",
    "## Contenido del Video:\n",
    "\n",
    "1. Introducción:\n",
    "    + Presenta brevemente quién eres.\n",
    "2. Explicación del Código:\n",
    "    + Muestra y explica tu código paso a paso.\n",
    "    + Ejecuta tu código y muestra que funciona correctamente con un ejemplo.\n",
    "3. Conclusión: Resume brevemente lo que has explicado.\n",
    "\n",
    "### Criterios de Evaluación:\n",
    "   +  Exactitud: El código debe resolver correctamente el problema planteado. \n",
    "    \n",
    "   + Claridad del Código: El código debe estar bien estructurado y comentado.\n",
    "\n",
    "### Calidad del Video:\n",
    "   + La explicación debe ser clara y concisa.\n",
    "   + El video debe estar bien organizado y dentro del tiempo límite.\n",
    "\n",
    "### Entrega:\n",
    "   + Compartir el link de GitHub del repositorio de la solución.\n",
    "   + Subir el video .mp4 al drive del alumno y compartir el link junto con la entrega del código.\n",
    "\n",
    "<u><em>Fecha Límite: 19 de junio de 2024 a las 23:59 hs.</em></u>\n",
    "\n",
    "## ¡Espero ver sus creativas soluciones y sus presentaciones claras y concisas! ¡Buena suerte y a programar!\n"
   ]
  },
  {
   "cell_type": "code",
   "execution_count": 7,
   "metadata": {},
   "outputs": [],
   "source": [
    "# Definición de la clase base Tarea\n",
    "class Tarea:\n",
    "    def __init__(self, nombre, descripcion, prioridad):\n",
    "        self.nombre = nombre\n",
    "        self.descripcion = descripcion\n",
    "        self.prioridad = prioridad"
   ]
  },
  {
   "cell_type": "code",
   "execution_count": 8,
   "metadata": {},
   "outputs": [],
   "source": [
    "# Definición de la clase TareaConFecha que hereda de Tarea\n",
    "class TareaConFecha(Tarea):\n",
    "    def __init__(self, nombre, descripcion, prioridad, fecha_limite):\n",
    "        super().__init__(nombre, descripcion, prioridad)\n",
    "        self.fecha_limite = fecha_limite"
   ]
  },
  {
   "cell_type": "code",
   "execution_count": 9,
   "metadata": {},
   "outputs": [],
   "source": [
    "# Definición de la clase que administra la lista de tareas\n",
    "class ListaTareas:\n",
    "    def __init__(self):\n",
    "        self.tareas = []\n",
    "\n",
    "    def agregar_tarea(self, tarea):\n",
    "        self.tareas.append(tarea)\n",
    "\n",
    "    def eliminar_tarea(self, nombre_tarea):\n",
    "        for tarea in self.tareas:\n",
    "            if tarea.nombre == nombre_tarea:\n",
    "                self.tareas.remove(tarea)\n",
    "                break\n",
    "\n",
    "    def listar_tareas(self):\n",
    "        for tarea in self.tareas:\n",
    "            print(tarea)\n"
   ]
  },
  {
   "cell_type": "code",
   "execution_count": 12,
   "metadata": {},
   "outputs": [
    {
     "name": "stdout",
     "output_type": "stream",
     "text": [
      "Lista de tareas:\n",
      "<__main__.Tarea object at 0x000001ED0CBB8650>\n",
      "<__main__.TareaConFecha object at 0x000001ED0CBB9350>\n"
     ]
    }
   ],
   "source": [
    "# Ejemplo de uso\n",
    "tarea1 = Tarea(\"Hacer ejercicio\", \"Ir al gimnasio\", \"alta\")\n",
    "tarea2 = TareaConFecha(\"Preparar informe\", \"Recopilar datos y redactar informe\", \"media\", \"30/06/2024\")\n",
    "\n",
    "lista_tareas = ListaTareas()\n",
    "lista_tareas.agregar_tarea(tarea1)\n",
    "lista_tareas.agregar_tarea(tarea2)\n",
    "\n",
    "print(\"Lista de tareas:\")\n",
    "lista_tareas.listar_tareas()"
   ]
  }
 ],
 "metadata": {
  "kernelspec": {
   "display_name": "Python 3",
   "language": "python",
   "name": "python3"
  },
  "language_info": {
   "codemirror_mode": {
    "name": "ipython",
    "version": 3
   },
   "file_extension": ".py",
   "mimetype": "text/x-python",
   "name": "python",
   "nbconvert_exporter": "python",
   "pygments_lexer": "ipython3",
   "version": "3.11.5"
  }
 },
 "nbformat": 4,
 "nbformat_minor": 2
}
